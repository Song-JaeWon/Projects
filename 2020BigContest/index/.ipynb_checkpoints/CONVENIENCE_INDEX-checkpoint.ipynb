{
 "cells": [
  {
   "cell_type": "code",
   "execution_count": 3,
   "metadata": {
    "ExecuteTime": {
     "end_time": "2020-09-27T07:31:06.592602Z",
     "start_time": "2020-09-27T07:31:06.584608Z"
    }
   },
   "outputs": [],
   "source": [
    "import pandas as pd\n",
    "import geopandas as gpd\n",
    "import numpy as np\n",
    "\n",
    "import os\n",
    "import pickle"
   ]
  },
  {
   "cell_type": "code",
   "execution_count": 4,
   "metadata": {
    "ExecuteTime": {
     "end_time": "2020-09-27T07:32:40.684292Z",
     "start_time": "2020-09-27T07:32:40.668288Z"
    }
   },
   "outputs": [],
   "source": [
    "os.chdir(\"../\")\n",
    "root_path = os.getcwd()\n",
    "\n",
    "data_folder_path = os.path.join(root_path, 'data')\n",
    "original_file_path = os.path.join(data_folder_path, 'original_data')\n",
    "original_raw_file_path = os.path.join(original_file_path,'raw_data')\n",
    "original_processed_file_path = os.path.join(original_file_path,'processed_data')\n",
    "\n",
    "raw_file_folders = os.listdir(original_raw_file_path)\n",
    "\n",
    "external_file_path = os.path.join(data_folder_path,'external_data')\n",
    "external_raw_file_path = os.path.join(external_file_path,'raw_data')\n",
    "external_processed_file_path = os.path.join(external_file_path,'processed_data')"
   ]
  },
  {
   "cell_type": "code",
   "execution_count": 44,
   "metadata": {
    "ExecuteTime": {
     "end_time": "2020-09-27T08:25:33.719516Z",
     "start_time": "2020-09-27T08:25:33.703493Z"
    }
   },
   "outputs": [],
   "source": [
    "def load_data():\n",
    "    geo_df=gpd.read_file(os.path.join(original_raw_file_path,raw_file_folders[0],'4개지역_행정동.SHP'))\n",
    "    bus_station_num_by_dong = pd.read_csv(os.path.join(external_processed_file_path,'bus_station_num_by_dong.csv'))\n",
    "    bus_route_num_dtd = pd.read_csv(os.path.join(external_processed_file_path,'bus_route_num_dtd.csv'), index_col=[0])\n",
    "    subway_route_num_dtd = pd.read_csv(os.path.join(external_processed_file_path,'subway_route_num_dtd.csv'),index_col=[0])\n",
    "    real_distance = pd.read_csv(os.path.join(external_processed_file_path,'distance_center_dong_to_dong.csv'),index_col=[0])\n",
    "    \n",
    "    with open(os.path.join(external_processed_file_path, 'total_route_num.pickle'), 'rb') as f:\n",
    "        total_route_num = pickle.load(f)\n",
    "        \n",
    "    return geo_df, bus_station_num_by_dong, bus_route_num_dtd, subway_route_num_dtd, real_distance, total_route_num"
   ]
  },
  {
   "cell_type": "code",
   "execution_count": 63,
   "metadata": {
    "ExecuteTime": {
     "end_time": "2020-09-27T08:31:38.143702Z",
     "start_time": "2020-09-27T08:31:38.115687Z"
    }
   },
   "outputs": [],
   "source": [
    "def Conv_Index_Matrix():\n",
    "    \n",
    "    geo_df, bus_station_num_by_dong, bus_route_num_dtd, subway_route_num_dtd, real_distance, total_route_num = load_data()\n",
    "    \n",
    "    def double_power_distance_weight(distance,df=real_distance):\n",
    "        shape = df.shape\n",
    "        names = df.columns.tolist()\n",
    "        flatten_values = np.concatenate(df.values)\n",
    "        weights = np.array([(1-(dist/distance)**2) if dist < distance else 0 for dist in flatten_values ])\n",
    "        weights_df = pd.DataFrame(weights.reshape(shape), columns = names)\n",
    "        weights_df.index = names\n",
    "        return weights_df\n",
    "    \n",
    "    def Conv_In(geo_df=geo_df, bus_station_num_by_dong=bus_station_num_by_dong):\n",
    "        bus_station_num_by_dong.columns = ['HDONG_NM','bus_station_num']\n",
    "        conv_in_diag = geo_df[['HDONG_NM','AREA']].iloc[35:].reset_index(drop=True).merge(bus_station_num_by_dong).eval('conv_in_diag = bus_station_num/AREA*10000').conv_in_diag.values\n",
    "        return np.diag(conv_in_diag)\n",
    "    \n",
    "    def Conv_Out(real_distance=real_distance, total_route_num=total_route_num, bus_route_num_dtd=bus_route_num_dtd, subway_route_num_dtd=subway_route_num_dtd):\n",
    "        dong_order=real_distance.columns.tolist()\n",
    "\n",
    "        total_bus_route = total_route_num.get('총버스노선수')\n",
    "        conv_bus=np.sqrt(bus_route_num_dtd/total_bus_route)\n",
    "        conv_bus=conv_bus.loc[dong_order,dong_order]\n",
    "        \n",
    "        total_subway_route = total_route_num.get('총지하철호선수')\n",
    "        conv_subway=np.sqrt(subway_route_num_dtd/total_subway_route)\n",
    "        conv_subway=conv_subway.loc[dong_order,dong_order]\n",
    "        \n",
    "        conv_out_df = np.multiply(\n",
    "                        double_power_distance_weight(3000),\n",
    "                        conv_bus+conv_subway\n",
    "                    )\n",
    "        return conv_out_df\n",
    "    \n",
    "    return Conv_In() + Conv_Out()"
   ]
  },
  {
   "cell_type": "code",
   "execution_count": null,
   "metadata": {},
   "outputs": [],
   "source": []
  },
  {
   "cell_type": "markdown",
   "metadata": {},
   "source": [
    "$Conv\\_In_{n,n} = \\begin{bmatrix}\n",
    "    c_{1} & & \\\\\n",
    "    & \\ddots & \\\\\n",
    "    & & c_{n}\n",
    "  \\end{bmatrix}\\ \\ s.t\\ \\ c_i={\\# bus\\ station\\ in\\ h_i \\over AREA(h_i)}$"
   ]
  }
 ],
 "metadata": {
  "kernelspec": {
   "display_name": "Python 3",
   "language": "python",
   "name": "python3"
  },
  "language_info": {
   "codemirror_mode": {
    "name": "ipython",
    "version": 3
   },
   "file_extension": ".py",
   "mimetype": "text/x-python",
   "name": "python",
   "nbconvert_exporter": "python",
   "pygments_lexer": "ipython3",
   "version": "3.7.2"
  },
  "toc": {
   "base_numbering": 1,
   "nav_menu": {},
   "number_sections": true,
   "sideBar": true,
   "skip_h1_title": false,
   "title_cell": "Table of Contents",
   "title_sidebar": "Contents",
   "toc_cell": false,
   "toc_position": {},
   "toc_section_display": true,
   "toc_window_display": false
  },
  "varInspector": {
   "cols": {
    "lenName": 16,
    "lenType": 16,
    "lenVar": 40
   },
   "kernels_config": {
    "python": {
     "delete_cmd_postfix": "",
     "delete_cmd_prefix": "del ",
     "library": "var_list.py",
     "varRefreshCmd": "print(var_dic_list())"
    },
    "r": {
     "delete_cmd_postfix": ") ",
     "delete_cmd_prefix": "rm(",
     "library": "var_list.r",
     "varRefreshCmd": "cat(var_dic_list()) "
    }
   },
   "types_to_exclude": [
    "module",
    "function",
    "builtin_function_or_method",
    "instance",
    "_Feature"
   ],
   "window_display": false
  }
 },
 "nbformat": 4,
 "nbformat_minor": 2
}
