{
 "cells": [
  {
   "cell_type": "markdown",
   "metadata": {},
   "source": [
    "## 오프라인(소비) Impact Index"
   ]
  },
  {
   "cell_type": "markdown",
   "metadata": {
    "ExecuteTime": {
     "end_time": "2020-09-27T16:13:21.646773Z",
     "start_time": "2020-09-27T16:13:21.636800Z"
    }
   },
   "source": [
    "$(Negative)\\ ImpactIndex = \\frac{R_{post}  -  R_{pre}}{R_{pre}}$\n",
    "\n",
    "* 사용데이터: 카드 소비 데이터 (신한카드)\n",
    "\n",
    "Index 정의 과정\n",
    "\n",
    "1. 추후 이동평균선 전처리를 고려하여 시점 T를 날짜가 아닌 주차와 요일로 정의 \n",
    " * $T_{(w,d)}$ : w주차 d요일 <br> <br>\n",
    "2. T시점의 카드 소비량 정의\n",
    " * $C_T^{year}$ : (year)년 T시점의 카드 소비량 <br><br>\n",
    "3. 코로나 확산 전 2주간 전년대비 평균 소비비율 $R_{pre}$ 정의\n",
    " * $R_{pre} = \\frac{\\sum_{t=(6,수)}^{(8,수)}{C_T^{2020}}}{\\sum_{t=(6,수)}^{(8,수)}{C_T^{2019}}}$ <br><br>\n",
    "4. 요일의 계절성을 없애기 위해 $C_T^{year}$의 7일 이동 평균 ${\\bar{C}}_T^{year}$정의\n",
    " * ${\\bar{C}}_T^{year}={\\sum_{t=T-3}^{T+3}{C_T^{year}} \\over 7}$ <br><br>\n",
    "5. 동일시점 기준 2019년대비 2020년 카드 소비 비율 ${\\bar{R}}_T$ 정의\n",
    " * ${\\bar{R}}_T = {\\bar{C}_T^{2020} \\over {\\bar{C}}_T^{2019}}$\n",
    "6. 코로나 확산 기간 $T_{diffusion}$: from $ T_{(8,목)} $ to $ T_{(11,일)}$ 정의 <br><br>\n",
    "7. 코로나 확산 이후 카드 소비량 ${\\bar{R}}_T$ 가 최소가 되는 시점 $T_{min}$ 정의\n",
    " * $T_{min} = \\underset{t \\in T_{diffusion}}{\\operatorname{argmin}} \\bar{R}_T$"
   ]
  },
  {
   "cell_type": "markdown",
   "metadata": {},
   "source": [
    "## 오프라인(소비) Resilience Index"
   ]
  },
  {
   "cell_type": "markdown",
   "metadata": {},
   "source": [
    "$Resilience = \\sqrt{\\hat{R} \\times argmin_{\\beta}{1 \\over 2} \\sum_{t=1}^{7 \\cdot window} [1+window - {t \\over 7}] \\cdot [\\bar{R}_{T_{min}+7} - {t \\over 7 \\cdot window} \\beta]}$"
   ]
  },
  {
   "cell_type": "markdown",
   "metadata": {
    "ExecuteTime": {
     "end_time": "2020-09-27T16:34:34.055058Z",
     "start_time": "2020-09-27T16:34:34.048077Z"
    }
   },
   "source": [
    "1. 추후 이동평균선 전처리를 고려하여 시점 T를 날짜가 아닌 주차와 요일로 정의 \n",
    " * $T_{(w,d)}$ : w주차 d요일 <br> <br>\n",
    "2. T시점의 카드 소비량 정의\n",
    " * $C_T^{year}$ : (year)년 T시점의 카드 소비량 <br><br>\n",
    "3. 코로나 확산 전 2주간 전년대비 평균 소비비율 $R_{pre}$ 정의\n",
    " * $R_{pre} = \\frac{\\sum_{t=(6,수)}^{(8,수)}{C_T^{2020}}}{\\sum_{t=(6,수)}^{(8,수)}{C_T^{2019}}}$ <br><br>\n",
    "4. 요일의 계절성을 없애기 위해 $C_T^{year}$의 7일 이동 평균 ${\\bar{C}}_T^{year}$정의.\n",
    " * ${\\bar{C}}_T^{year}=\\sum_{t=T-3}^{T+3}{C_T^{year} / 7}$ <br><br>\n",
    "5. 동일시점 기준 2019년대비 2020년 카드 소비 비율 ${\\bar{R}}_T$ 정의\n",
    " * $\\bar{R}_T = \\frac{\\bar{C}_T^{2020}}{\\bar{C}_T^{2019}}$ <br><br>\n",
    "6. 코로나 확산 기간 $T_{diffusion}$: from $ T_{(8,목)} $ to $ T_{(11,일)}$ 정의 <br><br>\n",
    "7. 코로나 확산 이후 카드 소비량 ${\\bar{R}}_T$ 가 최소가 되는 시점 $T_{min}$ 정의\n",
    " * $T_{min}={argmin}_{t \\in T_{diffusion}}{\\bar{R}_T}$ <br><br>\n",
    "8. $\\bar{R}_{T_{min}}$와 $R_{pre}$ 사이가 0과 1사이가 되도록 정규화\n",
    " * $\\hat{R}_{T}={\\bar{R}_{T}-\\bar{R}_{T_{min}} \\over R_{pre} - \\bar{R}_{T_{min}}}$\n",
    "9. $T_{min}$ 이후 회복 기간 (window)주 정의: $T_{recover}$ <br><br>\n",
    "10. $T_{recover}$ 기간 동안 최대 값 ${\\hat{R}}_{max}$ 정의\n",
    " * $\\hat{R}_{max}=\\underset{t \\in {T_{recover}}}{\\operatorname{max}}\\hat{R}_{t}$"
   ]
  },
  {
   "cell_type": "markdown",
   "metadata": {},
   "source": [
    "## 온라인(물류) Impact Index"
   ]
  },
  {
   "cell_type": "markdown",
   "metadata": {},
   "source": [
    "$(Positive)\\ Impact Index = {post_r-pre_r \\over pre_r}$"
   ]
  },
  {
   "cell_type": "markdown",
   "metadata": {},
   "source": [
    "* 사용데이터 : 물류데이터(CJ올리브네트웍스)  \n",
    "  \n",
    "INDEX 정의과정  \n",
    "* $post\\_r$  \n",
    "**1. 평일데이터만 filtering**  \n",
    " 평일데이터만 사용하는 이유: 주말 혹은 휴일의 경우 평소대비 송장건수가 일정하게 감소하고 코로나 등 외부요소와 상관없이 감소하므로 코로나와 같은 외부상황에 대한 변화를 더 정확하게 파악하기 위해 주말 및 휴일데이터를 제거함   \n",
    "**2. 업종/주/일 별 전년대비 송장건수 비율 계산**  \n",
    "**3. 업종별로 코로니확산기간(8주~11주)중 전년대비 송장건수 비율이 가장 높았을때의 값을 $post\\_r$로 정의**  \n",
    "  \n",
    "* $pre\\_r$  \n",
    "**1. 평일데이터만 filtering**    \n",
    "**2. 업종/주/일 별 전년대비 송장건수 비율 계산**  \n",
    "**3. 업종별로 코로나 이전(7주차) 전년대비 송장건수 비율의 평균값을 $pre\\_r$로 정의**   \n",
    " 코로나 이전기간을 7주차로만 선정한 이유 : 19년도 5~6주차의 경우 설연휴 및 설연휴에 대한 영향으로 인해 20년도의 동일 주차와 정상적으로 비교되기 어렵다고 생각하여 해당 기간을 제외함"
   ]
  },
  {
   "cell_type": "markdown",
   "metadata": {},
   "source": [
    "## 온라인(물류) Growth Index"
   ]
  },
  {
   "cell_type": "markdown",
   "metadata": {},
   "source": [
    "$GrowthIndex={\\sum_{i=1}^N i \\cdot r_i \\over \\sum_{i=1}^N i}$"
   ]
  },
  {
   "cell_type": "markdown",
   "metadata": {},
   "source": [
    "* 사용데이터 : 물류데이터(CJ올리브네트웍스)  \n",
    "  \n",
    "INDEX 정의과정  \n",
    "**1. 평일데이터만 filtering**    \n",
    "**2. 업종/주/일 별 전년대비 송장건수 비율 계산**  \n",
    "**3. 업종별로 코로나 완화기(12~17주)의 전년대비 송장건수 비율을 계산**  \n",
    "**4. 3)에서 계산된 값들의 가중평균을 취해 나온 값을 $growth\\_index$로 정의 **"
   ]
  },
  {
   "cell_type": "markdown",
   "metadata": {},
   "source": [
    "___"
   ]
  },
  {
   "cell_type": "markdown",
   "metadata": {},
   "source": [
    "## 교통편의성 CONVENIENCE INDEX "
   ]
  },
  {
   "cell_type": "markdown",
   "metadata": {},
   "source": [
    "* $CONV\\_INDEX_{n,n} = Conv\\_IN_{n,n} + Conv\\_Out_{n,n}$\n",
    "\n",
    "    * $Conv\\_In_{n,n} = \\begin{bmatrix}\n",
    "    c_{1} & & \\\\\n",
    "    & \\ddots & \\\\\n",
    "    & & c_{n}\n",
    "  \\end{bmatrix}\\ \\ s.t\\ \\ c_i={\\# bus\\ station\\ in\\ h_i \\over AREA(h_i)}$\n",
    "\n",
    "    * $Conv\\_Out_{n,n} = D_{n,n} \\odot R_{n,n}$\n",
    "$(elementwise\\ multiplication\\ of\\ D_{n,n}\\ \\text{$and$}\\ R_{n,n})$\n",
    "\n",
    "        * $D_{n,n} = \\{d_{i,j}\\} \\ s.t\\ \\ d_{i,j}= \\begin{cases}\n",
    "\\left (1-\\left (Dist(h_i,h_j) \\over d \\right)^2 \\right )^2 & \\text{if $0 \\le Dist(h_i,h_j) \\le d $} \\\\\n",
    "0 & \\text{if $Dist(h_i,h_j) > d$}\\end{cases}$\n",
    "\n",
    "        * $R_{n,n} = \\{r_{i,j}\\}\\ s.t\\ \\ r_{i,j} = \\begin{cases}\n",
    "\\sqrt{\\left ({bus\\ route (h_i,h_j) \\over total\\ bus\\ route} \\right)} + \\sqrt{\\left ({subway\\ route (h_i,h_j) \\over total\\ subway\\ route} \\right)}& \\text{if $ i \\ne j$} \\\\\n",
    "0 & \\text{if $ i=j $}\\end{cases}$"
   ]
  },
  {
   "cell_type": "markdown",
   "metadata": {},
   "source": [
    "___"
   ]
  },
  {
   "cell_type": "markdown",
   "metadata": {},
   "source": [
    "* 사용데이터\n",
    " - 4개지역_행정동.SHP - conv_in\n",
    " - bus_station_num_by_dong.csv - conv_in \n",
    " - bus_route_num_dtd.csv - conv_out\n",
    " - subway_route_num_dtd.csv - conv_out\n",
    " - distance_center_dong_to_dong.csv - conv_out\n",
    " - total_route_num.pickle - conv_out"
   ]
  },
  {
   "cell_type": "markdown",
   "metadata": {},
   "source": [
    "CONV_IN계산  \n",
    "* $Conv\\_In=$( 행정동별 버스정류장의 수 / 행정동 넓이 )$\\cdot 10^4$ 으로 계산된 값\n",
    "\n",
    "CONV_OUT계산\n",
    "* $Conv\\_Out$\n",
    "    * $R_{n,n} = conv\\_bus_{n,n} + conv\\_subway_{n,n}$\n",
    "        * $conv\\_bus_{n,n}$    \n",
    "        : $conv\\_bus$의 각 성분인 $conv\\_bus_{i,j}$는 행정동i와 행정동j간 이동할 수 있는 버스노선의 수를 총 버스노선의 수로 나눈 값의 양의 제곱근 값이다\n",
    "        * $conv\\_subway_{n,n}$  \n",
    "        : $conv\\_subway$의 각 성분인 $conv\\_subway_{i,j}$는 행정동 i와 행정동j간 이동할 수 있는 지하철 호선의 수를 총 지하철 호선의 수로 나눈 값의 양의 제곱근 값이다\n",
    "    * $D_{n,n}$  \n",
    "    : $D_{n,n}$의 각 성분인 $D_{i,j}$는 행정동i와 행정동j의 거리를 통해 double power distance weight를 취해준 값이다\n",
    "    \n",
    ": $Conv\\_Out$은 $R_{n,n}$행렬과 $D_{n,n}$행렬의 요소별 연산을 통해 계산된다\n"
   ]
  }
 ],
 "metadata": {
  "kernelspec": {
   "display_name": "Python 3",
   "language": "python",
   "name": "python3"
  },
  "language_info": {
   "codemirror_mode": {
    "name": "ipython",
    "version": 3
   },
   "file_extension": ".py",
   "mimetype": "text/x-python",
   "name": "python",
   "nbconvert_exporter": "python",
   "pygments_lexer": "ipython3",
   "version": "3.7.2"
  },
  "toc": {
   "base_numbering": 1,
   "nav_menu": {},
   "number_sections": true,
   "sideBar": true,
   "skip_h1_title": false,
   "title_cell": "Table of Contents",
   "title_sidebar": "Contents",
   "toc_cell": false,
   "toc_position": {},
   "toc_section_display": true,
   "toc_window_display": false
  },
  "varInspector": {
   "cols": {
    "lenName": 16,
    "lenType": 16,
    "lenVar": 40
   },
   "kernels_config": {
    "python": {
     "delete_cmd_postfix": "",
     "delete_cmd_prefix": "del ",
     "library": "var_list.py",
     "varRefreshCmd": "print(var_dic_list())"
    },
    "r": {
     "delete_cmd_postfix": ") ",
     "delete_cmd_prefix": "rm(",
     "library": "var_list.r",
     "varRefreshCmd": "cat(var_dic_list()) "
    }
   },
   "types_to_exclude": [
    "module",
    "function",
    "builtin_function_or_method",
    "instance",
    "_Feature"
   ],
   "window_display": false
  }
 },
 "nbformat": 4,
 "nbformat_minor": 2
}
